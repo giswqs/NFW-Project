{
 "cells": [
  {
   "cell_type": "markdown",
   "metadata": {},
   "source": [
    "# Delineating Surface Depressions from LiDAR Data\n",
    "\n",
    "[![image](https://colab.research.google.com/assets/colab-badge.svg)](https://colab.research.google.com/github/giswqs/NFW-Project/blob/main/notebooks/3dep.ipynb)\n"
   ]
  },
  {
   "cell_type": "code",
   "execution_count": null,
   "metadata": {},
   "outputs": [],
   "source": [
    "# %pip install -U pygis lidar geedim"
   ]
  },
  {
   "cell_type": "code",
   "execution_count": null,
   "metadata": {},
   "outputs": [],
   "source": [
    "import os\n",
    "import sys\n",
    "import ee\n",
    "import geemap\n",
    "import lidar\n",
    "import pandas as pd"
   ]
  },
  {
   "cell_type": "markdown",
   "metadata": {},
   "source": [
    "Set working directory."
   ]
  },
  {
   "cell_type": "code",
   "execution_count": null,
   "metadata": {},
   "outputs": [],
   "source": [
    "if \"google.colab\" in sys.modules:\n",
    "    work_dir = os.getcwd()\n",
    "else:\n",
    "    work_dir = os.path.join(os.path.expanduser(\"~\"), \"Downloads\")"
   ]
  },
  {
   "cell_type": "markdown",
   "metadata": {},
   "source": [
    "Add various data layers to the map, including 3DEP DEM, HUC-8 and HUC-12 boundaries, and NWI. "
   ]
  },
  {
   "cell_type": "code",
   "execution_count": null,
   "metadata": {},
   "outputs": [],
   "source": [
    "m = geemap.Map(center=[47.2121, -99.0280], zoom=9, height=800)\n",
    "\n",
    "url = \"https://mt1.google.com/vt/lyrs=y&x={x}&y={y}&z={z}\"\n",
    "m.add_tile_layer(url, name=\"Google Satellite\", attribution=\"Google\")\n",
    "\n",
    "dem_wms = \"https://elevation.nationalmap.gov/arcgis/services/3DEPElevation/ImageServer/WMSServer\"\n",
    "layer = \"3DEPElevation:Hillshade Multidirectional\"\n",
    "m.add_wms_layer(\n",
    "    url=dem_wms, layers=layer, name=\"Hillshade\", format=\"image/png\", shown=False\n",
    ")\n",
    "\n",
    "\n",
    "huc12 = ee.FeatureCollection(\"USGS/WBD/2017/HUC12\")\n",
    "huc08 = ee.FeatureCollection(\"USGS/WBD/2017/HUC08\")\n",
    "collection = ee.ImageCollection(\"USGS/3DEP/1m\")\n",
    "style = {\"color\": \"0000ff88\", \"fillColor\": \"00000000\", \"width\": 1}\n",
    "m.add_layer(\n",
    "    collection, {\"min\": 0, \"max\": 4000, \"palette\": \"terrain\"}, \"3DEP\", False, 0.5\n",
    ")\n",
    "\n",
    "nwi_wms = \"https://fwspublicservices.wim.usgs.gov/wetlandsmapservice/services/Wetlands/MapServer/WMSServer\"\n",
    "m.add_wms_layer(url=nwi_wms, layers=\"1\", name=\"NWI\", format=\"image/png\", shown=False)\n",
    "\n",
    "m.add_layer(huc12, {}, \"HU-12 Vector\", False)\n",
    "m.add_layer(\n",
    "    huc12.style(**style),\n",
    "    {},\n",
    "    \"HU-12\",\n",
    ")\n",
    "m.add_layer(huc08, {}, \"HU-8 Vector\", True, 0.5)\n",
    "\n",
    "m.add_layer_manager(opened=False)\n",
    "m"
   ]
  },
  {
   "cell_type": "markdown",
   "metadata": {},
   "source": [
    "Use the Draw tool to draw a point or polygon on the map. The intersecting HUC-12 watershed will be selected. Alternatively, you can specify the HUC-12 code below. Some sample HUC-12 codes are provided below.\n",
    "\n",
    "* Pipestem HU8: 10160002, 10130103\n",
    "* Pipestem HU12: 101600020502, 101301030306"
   ]
  },
  {
   "cell_type": "code",
   "execution_count": null,
   "metadata": {},
   "outputs": [],
   "source": [
    "if m.user_roi is not None:\n",
    "    huc12_id = huc12.filterBounds(m.user_roi).first().get(\"huc12\").getInfo()\n",
    "else:\n",
    "    huc12_id = \"101600020502\"\n",
    "\n",
    "print(huc12_id)"
   ]
  },
  {
   "cell_type": "markdown",
   "metadata": {},
   "source": [
    "Find out the number of 3DEP DEM tiles that intersect with the selected HUC-12 watershed."
   ]
  },
  {
   "cell_type": "code",
   "execution_count": null,
   "metadata": {},
   "outputs": [],
   "source": [
    "roi = huc12.filter(ee.Filter.eq(\"huc12\", huc12_id))\n",
    "m.add_layer(\n",
    "    roi.style(**{\"color\": \"ff0088\", \"fillColor\": \"00000000\", \"width\": 2}), {}, \"ROI\"\n",
    ")\n",
    "images = collection.filterBounds(roi)\n",
    "size = images.size().getInfo()\n",
    "print(f\"Number of images: {size}\")"
   ]
  },
  {
   "cell_type": "markdown",
   "metadata": {},
   "source": [
    "Mosaic the selected 3DEP DEM tiles and apply a smoothing filter to the mosaic before generating a hillshade."
   ]
  },
  {
   "cell_type": "code",
   "execution_count": null,
   "metadata": {},
   "outputs": [],
   "source": [
    "if size > 0:\n",
    "    image = images.median().clipToCollection(roi).setDefaultProjection(\"EPSG:5070\")\n",
    "    hillshade = ee.Terrain.hillshade(image)\n",
    "    window_size = 2\n",
    "    reducer = ee.Reducer.mean()\n",
    "    kernel = ee.Kernel.square(radius=window_size, units=\"pixels\")\n",
    "    dem = image.reduceNeighborhood(**{\"reducer\": reducer, \"kernel\": kernel})\n",
    "    dem_hs = ee.Terrain.hillshade(dem)\n",
    "\n",
    "    m.add_layer(image, {\"min\": 1000, \"max\": 3000, \"palette\": \"terrain\"}, \"DEM\")\n",
    "    m.add_layer(hillshade, {}, \"Hillshade\")\n",
    "    m.add_layer(dem_hs, {}, \"Hillshade_smoothed\")\n",
    "else:\n",
    "    print(\"No data available for the selected HUC12\")"
   ]
  },
  {
   "cell_type": "markdown",
   "metadata": {},
   "source": [
    "Download the 3DEP DEM mosaic for the selected HUC-12 watershed."
   ]
  },
  {
   "cell_type": "code",
   "execution_count": null,
   "metadata": {},
   "outputs": [],
   "source": [
    "output_huc12 = os.path.join(work_dir, f\"{huc12_id}.tif\")\n",
    "if size > 0:\n",
    "    if not os.path.exists(output_huc12):\n",
    "        geemap.download_ee_image(\n",
    "            dem, output_huc12, scale=3, crs=\"EPSG:5070\", region=roi.geometry()\n",
    "        )\n",
    "    else:\n",
    "        print(f\"{huc12_id}.tif already exists\")"
   ]
  },
  {
   "cell_type": "markdown",
   "metadata": {},
   "source": [
    "Delinate surface depressions using the downloaded 3DEP DEM mosaic for the selected HUC-12 watershed."
   ]
  },
  {
   "cell_type": "code",
   "execution_count": null,
   "metadata": {},
   "outputs": [],
   "source": [
    "out_dir = os.path.join(work_dir, huc12_id)\n",
    "lidar.ExtractSinks(output_huc12, min_size=100, out_dir=out_dir)"
   ]
  },
  {
   "cell_type": "markdown",
   "metadata": {},
   "source": [
    "Comparing the LiDAR-derived surface depressions with NED-derived surface depressions, NWI, and NHD flowlines."
   ]
  },
  {
   "cell_type": "code",
   "execution_count": null,
   "metadata": {},
   "outputs": [],
   "source": [
    "m = geemap.Map(center=[40, -100], zoom=5)\n",
    "url = \"https://mt1.google.com/vt/lyrs=y&x={x}&y={y}&z={z}\"\n",
    "m.add_tile_layer(url, name=\"Google Satellite\", attribution=\"Google\")\n",
    "m.add_layer(dem_hs, {}, \"Hillshade_smoothed\")\n",
    "m.add_layer(image, {\"min\": 0, \"max\": 3000, \"palette\": \"terrain\"}, \"DEM\", False)\n",
    "# m.add_raster(f\"{huc12_id}.tif\", colormap=\"terrain\", layer_name=\"DEM\")\n",
    "\n",
    "hu8_dep_id = \"users/giswqs/depressions/\" + huc12_id[:8]\n",
    "hu8_dep = ee.FeatureCollection(hu8_dep_id).filterBounds(roi)\n",
    "m.add_layer(hu8_dep, {}, \"HU8 depressions\", False)\n",
    "\n",
    "style = {\"color\": \"#0000ff\", \"fillColor\": \"#0000ff\"}\n",
    "huc12_dep_gpkg = os.path.join(out_dir, f\"{huc12_id}.gpkg\")\n",
    "m.add_vector(\n",
    "    huc12_dep_gpkg,\n",
    "    # style=style,\n",
    "    layer_name=\"HU12 depressions\",\n",
    ")\n",
    "m.add_layer(\n",
    "    roi.style(**{\"color\": \"ff0088\", \"fillColor\": \"00000000\", \"width\": 2}), {}, \"ROI\"\n",
    ")\n",
    "\n",
    "nwi_wms = \"https://fwspublicservices.wim.usgs.gov/wetlandsmapservice/services/Wetlands/MapServer/WMSServer\"\n",
    "m.add_wms_layer(url=nwi_wms, layers=\"1\", name=\"NWI\", format=\"image/png\")\n",
    "\n",
    "nhd_flowline = ee.FeatureCollection(\n",
    "    \"projects/sat-io/open-datasets/NHD/NHD_ND/NHDFlowline\"\n",
    ")\n",
    "m.add_layer(nhd_flowline, {}, \"NHD Flowline\", False)\n",
    "\n",
    "wetlands = ee.FeatureCollection(\n",
    "    \"projects/sat-io/open-datasets/NWI/wetlands/ND_Wetlands\"\n",
    ")\n",
    "m.add_layer(wetlands, {}, \"Wetlands\", False)\n",
    "\n",
    "m.add_layer_manager(opened=False)\n",
    "m.centerObject(roi)\n",
    "m"
   ]
  },
  {
   "cell_type": "code",
   "execution_count": null,
   "metadata": {},
   "outputs": [],
   "source": [
    "huc12_id = \"101303050505\""
   ]
  },
  {
   "cell_type": "markdown",
   "metadata": {},
   "source": [
    "Check the list of HUC-12 watersheds in the contiguous United States. There are 100,920 HUC-12 watersheds in the contiguous United States."
   ]
  },
  {
   "cell_type": "code",
   "execution_count": null,
   "metadata": {},
   "outputs": [],
   "source": [
    "url = \"https://github.com/opengeos/datasets/releases/download/hydrology/huc12.csv\"\n",
    "df = pd.read_csv(url, dtype=str)\n",
    "df"
   ]
  },
  {
   "cell_type": "markdown",
   "metadata": {},
   "source": [
    "Find out the number of HUC-12 watersheds within a HUC-8 watershed."
   ]
  },
  {
   "cell_type": "code",
   "execution_count": null,
   "metadata": {},
   "outputs": [],
   "source": [
    "hu8_id = \"10130103\"\n",
    "hu12_ids = df[df[\"huc12\"].str.startswith(hu8_id)]\n",
    "hu12_ids = hu12_ids[\"huc12\"].tolist()\n",
    "print(f\"Number of HUC12s: {len(hu12_ids)}\")"
   ]
  },
  {
   "cell_type": "markdown",
   "metadata": {},
   "source": [
    "Download 3DEP DEM tiles for all HUC-12 watersheds within a HUC-8 watershed. This may take a while depending on the size of the HUC-8 watershed."
   ]
  },
  {
   "cell_type": "code",
   "execution_count": null,
   "metadata": {},
   "outputs": [],
   "source": [
    "for index, huc12_id in enumerate(hu12_ids):\n",
    "    print(f\"Downloading {index + 1}/{len(hu12_ids)}: {huc12_id}\")\n",
    "    out_dir = os.path.join(work_dir, huc12_id[:8])\n",
    "    if not os.path.exists(out_dir):\n",
    "        os.makedirs(out_dir)\n",
    "    filename = f\"{out_dir}/{huc12_id}.tif\"\n",
    "    lidar.download_3dep_1m(huc12_id, filename, scale=3)"
   ]
  },
  {
   "cell_type": "markdown",
   "metadata": {},
   "source": [
    "Download the 3DEP DEM mosaic for the selected HUC-8 watershed."
   ]
  },
  {
   "cell_type": "code",
   "execution_count": null,
   "metadata": {},
   "outputs": [],
   "source": [
    "filename = os.path.join(work_dir, f\"{hu8_id}.tif\")\n",
    "lidar.download_3dep_1m(hu8_id, filename, scale=3)"
   ]
  },
  {
   "cell_type": "markdown",
   "metadata": {},
   "source": [
    "Extract surface depressions for the selected HUC-8 watershed. This takes a lot of memory and may crash the system."
   ]
  },
  {
   "cell_type": "code",
   "execution_count": null,
   "metadata": {},
   "outputs": [],
   "source": [
    "out_dir = os.path.join(work_dir, hu8_id)\n",
    "if not os.path.exists(out_dir):\n",
    "    os.makedirs(out_dir)\n",
    "lidar.ExtractSinks(filename, min_size=100, out_dir=out_dir)"
   ]
  }
 ],
 "metadata": {
  "kernelspec": {
   "display_name": "lidar",
   "language": "python",
   "name": "python3"
  },
  "language_info": {
   "codemirror_mode": {
    "name": "ipython",
    "version": 3
   },
   "file_extension": ".py",
   "mimetype": "text/x-python",
   "name": "python",
   "nbconvert_exporter": "python",
   "pygments_lexer": "ipython3",
   "version": "3.11.8"
  }
 },
 "nbformat": 4,
 "nbformat_minor": 2
}
